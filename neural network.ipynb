{
 "cells": [
  {
   "cell_type": "markdown",
   "metadata": {},
   "source": [
    "# multilayer perceptronを使ったクラス分類コード"
   ]
  },
  {
   "cell_type": "code",
   "execution_count": 1,
   "metadata": {},
   "outputs": [],
   "source": [
    "import pandas as pd\n",
    "df = pd.read_csv(\"test_class.txt\", sep=\"\\t\")"
   ]
  },
  {
   "cell_type": "code",
   "execution_count": 2,
   "metadata": {
    "tags": []
   },
   "outputs": [],
   "source": [
    "x=df.loc[:, ['Nucleus: Area µm^2',\n",
    "       'Nucleus: Length µm', 'Nucleus: Circularity', 'Nucleus: Solidity',\n",
    "       'Nucleus: Max diameter µm', 'Nucleus: Min diameter µm',\n",
    "       'Cell: Area µm^2', 'Cell: Length µm', 'Cell: Circularity',\n",
    "       'Cell: Solidity', 'Cell: Max diameter µm', 'Cell: Min diameter µm',\n",
    "       'Nucleus/Cell area ratio', 'Hematoxylin: Nucleus: Mean',\n",
    "       'Hematoxylin: Nucleus: Median', 'Hematoxylin: Nucleus: Min',\n",
    "       'Hematoxylin: Nucleus: Max', 'Hematoxylin: Nucleus: Std.Dev.',\n",
    "       'Hematoxylin: Cytoplasm: Mean', 'Hematoxylin: Cytoplasm: Median',\n",
    "       'Hematoxylin: Cytoplasm: Min', 'Hematoxylin: Cytoplasm: Max',\n",
    "       'Hematoxylin: Cytoplasm: Std.Dev.', 'Hematoxylin: Membrane: Mean',\n",
    "       'Hematoxylin: Membrane: Median', 'Hematoxylin: Membrane: Min',\n",
    "       'Hematoxylin: Membrane: Max', 'Hematoxylin: Membrane: Std.Dev.',\n",
    "       'Hematoxylin: Cell: Mean', 'Hematoxylin: Cell: Median',\n",
    "       'Hematoxylin: Cell: Min', 'Hematoxylin: Cell: Max',\n",
    "       'Hematoxylin: Cell: Std.Dev.', 'Eosin: Nucleus: Mean',\n",
    "       'Eosin: Nucleus: Median', 'Eosin: Nucleus: Min', 'Eosin: Nucleus: Max',\n",
    "       'Eosin: Nucleus: Std.Dev.', 'Eosin: Cytoplasm: Mean',\n",
    "       'Eosin: Cytoplasm: Median', 'Eosin: Cytoplasm: Min',\n",
    "       'Eosin: Cytoplasm: Max', 'Eosin: Cytoplasm: Std.Dev.',\n",
    "       'Eosin: Membrane: Mean', 'Eosin: Membrane: Median',\n",
    "       'Eosin: Membrane: Min', 'Eosin: Membrane: Max',\n",
    "       'Eosin: Membrane: Std.Dev.', 'Eosin: Cell: Mean', 'Eosin: Cell: Median',\n",
    "       'Eosin: Cell: Min', 'Eosin: Cell: Max', 'Eosin: Cell: Std.Dev.']]\n",
    "y=df.loc[:, \"Parent\"]\n"
   ]
  },
  {
   "cell_type": "code",
   "execution_count": 3,
   "metadata": {},
   "outputs": [
    {
     "data": {
      "text/plain": [
       "Tumor           4600\n",
       "Immune cells    4003\n",
       "Other           1447\n",
       "Name: Parent, dtype: int64"
      ]
     },
     "execution_count": 3,
     "metadata": {},
     "output_type": "execute_result"
    }
   ],
   "source": [
    "y.value_counts()"
   ]
  },
  {
   "cell_type": "code",
   "execution_count": 4,
   "metadata": {},
   "outputs": [],
   "source": [
    "from sklearn.preprocessing import StandardScaler\n",
    "Scaler = StandardScaler()\n",
    "x_std = Scaler.fit_transform(x)"
   ]
  },
  {
   "cell_type": "code",
   "execution_count": 5,
   "metadata": {},
   "outputs": [],
   "source": [
    "from sklearn.model_selection import train_test_split\n",
    "X_train, X_test, y_train, y_test = train_test_split(x_std, y, random_state=0)"
   ]
  },
  {
   "cell_type": "code",
   "execution_count": 6,
   "metadata": {},
   "outputs": [],
   "source": [
    "from sklearn.neural_network import MLPClassifier"
   ]
  },
  {
   "cell_type": "code",
   "execution_count": 8,
   "metadata": {},
   "outputs": [
    {
     "name": "stdout",
     "output_type": "stream",
     "text": [
      "0.8834062873060088\n"
     ]
    }
   ],
   "source": [
    "model = MLPClassifier(max_iter=1000).fit(X_train, y_train)\n",
    "print(model.score(X_test, y_test))"
   ]
  },
  {
   "cell_type": "code",
   "execution_count": null,
   "metadata": {},
   "outputs": [],
   "source": []
  }
 ],
 "metadata": {
  "kernelspec": {
   "display_name": "Python 3 (ipykernel)",
   "language": "python",
   "name": "python3"
  },
  "language_info": {
   "codemirror_mode": {
    "name": "ipython",
    "version": 3
   },
   "file_extension": ".py",
   "mimetype": "text/x-python",
   "name": "python",
   "nbconvert_exporter": "python",
   "pygments_lexer": "ipython3",
   "version": "3.8.6"
  }
 },
 "nbformat": 4,
 "nbformat_minor": 4
}
